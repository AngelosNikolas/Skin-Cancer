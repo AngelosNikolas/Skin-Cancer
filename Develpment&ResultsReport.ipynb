{
 "cells": [
  {
   "cell_type": "markdown",
   "id": "478f03ac",
   "metadata": {},
   "source": [
    "# Skin Cancer Model\n",
    "\n",
    "## Angelos Nikolas\n",
    "\n",
    "### The dataset is available at: https://www.kaggle.com/datasets/kmader/skin-cancer-mnist-ham10000"
   ]
  },
  {
   "cell_type": "markdown",
   "id": "22036d54",
   "metadata": {},
   "source": [
    "### Importing libraries reading data and setting their size"
   ]
  },
  {
   "cell_type": "code",
   "execution_count": 11,
   "id": "0eb3ce74",
   "metadata": {},
   "outputs": [],
   "source": [
    "import matplotlib.pyplot as plt\n",
    "import numpy as np\n",
    "import pandas as pd\n",
    "import os\n",
    "from glob import glob\n",
    "import seaborn as sns\n",
    "from PIL import Image\n",
    "\n",
    "np.random.seed(42)\n",
    "from sklearn.metrics import confusion_matrix\n",
    "\n",
    "import keras\n",
    "from keras.utils.np_utils import to_categorical # used for converting labels to one-hot-encoding\n",
    "from keras.models import Sequential\n",
    "from keras.layers import Dense, Dropout, Flatten, Conv2D, MaxPool2D, BatchNormalization\n",
    "from sklearn.model_selection import train_test_split\n",
    "from scipy import stats\n",
    "from sklearn.preprocessing import LabelEncoder\n",
    "\n",
    "skin_data = pd.read_csv('HAM10000_metadata.csv')\n",
    "\n",
    "# Setting size of the images\n",
    "SIZE=32"
   ]
  },
  {
   "cell_type": "markdown",
   "id": "1dad680d",
   "metadata": {},
   "source": [
    "### Converting classes to numeric values and printing the corresponding classes"
   ]
  },
  {
   "cell_type": "code",
   "execution_count": 12,
   "id": "169a8359",
   "metadata": {},
   "outputs": [
    {
     "name": "stdout",
     "output_type": "stream",
     "text": [
      "['akiec', 'bcc', 'bkl', 'df', 'mel', 'nv', 'vasc']\n"
     ]
    }
   ],
   "source": [
    "# Converting classes names to numeric values\n",
    "le = LabelEncoder()\n",
    "le.fit(skin_data['dx'])\n",
    "LabelEncoder()\n",
    "print(list(le.classes_))"
   ]
  },
  {
   "cell_type": "markdown",
   "id": "678ee26e",
   "metadata": {},
   "source": [
    "### Creation of new column of the correspodning numeric values assig"
   ]
  },
  {
   "cell_type": "code",
   "execution_count": 13,
   "id": "96fce885",
   "metadata": {},
   "outputs": [
    {
     "name": "stdout",
     "output_type": "stream",
     "text": [
      "        lesion_id      image_id   dx    dx_type   age     sex  \\\n",
      "1617  HAM_0007180  ISIC_0033272  mel      histo  65.0    male   \n",
      "8128  HAM_0007195  ISIC_0031923   nv      histo  40.0  female   \n",
      "2168  HAM_0001835  ISIC_0026652  mel      histo  65.0    male   \n",
      "1090  HAM_0000465  ISIC_0030583  bkl  consensus  35.0  female   \n",
      "7754  HAM_0001720  ISIC_0034010   nv      histo  45.0    male   \n",
      "8071  HAM_0006333  ISIC_0024424   nv      histo  35.0    male   \n",
      "7423  HAM_0004548  ISIC_0032832   nv      histo  45.0  female   \n",
      "8984  HAM_0006526  ISIC_0026671   nv      histo  55.0    male   \n",
      "2310  HAM_0003102  ISIC_0032389  mel      histo  65.0    male   \n",
      "7256  HAM_0004260  ISIC_0025525   nv      histo  65.0    male   \n",
      "\n",
      "         localization  classes  \n",
      "1617             face        4  \n",
      "8128  lower extremity        5  \n",
      "2168             back        4  \n",
      "1090            trunk        2  \n",
      "7754          abdomen        5  \n",
      "8071            trunk        5  \n",
      "7423  upper extremity        5  \n",
      "8984  lower extremity        5  \n",
      "2310             face        4  \n",
      "7256             back        5  \n"
     ]
    }
   ],
   "source": [
    "# Transforming dx numeric values to a new column called classes\n",
    "skin_data['classes'] = le.transform(skin_data[\"dx\"]) \n",
    "print(skin_data.sample(10))"
   ]
  },
  {
   "cell_type": "markdown",
   "id": "ab90913d",
   "metadata": {},
   "source": [
    "For each class a numerical value is assigned for example nv = 5."
   ]
  },
  {
   "cell_type": "markdown",
   "id": "99ba77da",
   "metadata": {},
   "source": [
    "### Distribution of cell types graph and sex allocation"
   ]
  },
  {
   "cell_type": "code",
   "execution_count": 14,
   "id": "cdb53f8e",
   "metadata": {
    "scrolled": false
   },
   "outputs": [
    {
     "data": {
      "image/png": "[encoded data removed]",
      "text/plain": [
       "<Figure size 864x576 with 2 Axes>"
      ]
     },
     "metadata": {
      "needs_background": "light"
     },
     "output_type": "display_data"
    }
   ],
   "source": [
    "fig = plt.figure(figsize=(12,8))\n",
    "\n",
    "ax1 = fig.add_subplot(221)\n",
    "skin_data['dx'].value_counts().plot(kind='bar', ax=ax1)\n",
    "ax1.set_ylabel('Count')\n",
    "ax1.set_title('Cell Type');\n",
    "\n",
    "ax2 = fig.add_subplot(222)\n",
    "skin_data['sex'].value_counts().plot(kind='bar', ax=ax2)\n",
    "ax2.set_ylabel('Count', size=15)\n",
    "ax2.set_title('Sex');\n",
    "\n"
   ]
  },
  {
   "cell_type": "markdown",
   "id": "d648f851",
   "metadata": {},
   "source": [
    "From the cell type graph it is noticable that the nv classe dominates the observations. The sex distribution is satisfactory balanced."
   ]
  },
  {
   "cell_type": "markdown",
   "id": "9f6d341f",
   "metadata": {},
   "source": [
    "### Distribution of the localization of the observations"
   ]
  },
  {
   "cell_type": "code",
   "execution_count": 15,
   "id": "3850c849",
   "metadata": {},
   "outputs": [
    {
     "data": {
      "text/plain": [
       "Text(0.5, 1.0, 'Localization')"
      ]
     },
     "execution_count": 15,
     "metadata": {},
     "output_type": "execute_result"
    },
    {
     "data": {
      "image/png": "[encoded data removed]",
      "text/plain": [
       "<Figure size 432x288 with 1 Axes>"
      ]
     },
     "metadata": {
      "needs_background": "light"
     },
     "output_type": "display_data"
    }
   ],
   "source": [
    "ax3 = fig.add_subplot(223)\n",
    "skin_data['localization'].value_counts().plot(kind='bar')\n",
    "ax3.set_ylabel('Count',size=12)\n",
    "ax3.set_title('Localization')\n",
    "\n",
    "\n"
   ]
  },
  {
   "cell_type": "markdown",
   "id": "098b883c",
   "metadata": {},
   "source": [
    "Most observations are made on the back and lower extremity."
   ]
  },
  {
   "cell_type": "markdown",
   "id": "9d7bbdec",
   "metadata": {},
   "source": [
    "### Distribution of the ages in the sample group"
   ]
  },
  {
   "cell_type": "code",
   "execution_count": 16,
   "id": "d5479c1e",
   "metadata": {},
   "outputs": [
    {
     "name": "stderr",
     "output_type": "stream",
     "text": [
      "C:\\Users\\Aggelos\\anaconda3\\lib\\site-packages\\seaborn\\distributions.py:2619: FutureWarning: `distplot` is a deprecated function and will be removed in a future version. Please adapt your code to use either `displot` (a figure-level function with similar flexibility) or `histplot` (an axes-level function for histograms).\n",
      "  warnings.warn(msg, FutureWarning)\n"
     ]
    },
    {
     "data": {
      "text/plain": [
       "Text(0.5, 1.0, 'Age')"
      ]
     },
     "execution_count": 16,
     "metadata": {},
     "output_type": "execute_result"
    },
    {
     "data": {
      "image/png": "[encoded data removed]",
      "text/plain": [
       "<Figure size 432x288 with 1 Axes>"
      ]
     },
     "metadata": {
      "needs_background": "light"
     },
     "output_type": "display_data"
    }
   ],
   "source": [
    "ax4 = fig.add_subplot(224)\n",
    "sample_age = skin_data[pd.notnull(skin_data['age'])]\n",
    "sns.distplot(sample_age['age'], fit=stats.norm, color='red');\n",
    "ax4.set_title('Age')"
   ]
  },
  {
   "cell_type": "markdown",
   "id": "264b0f59",
   "metadata": {},
   "source": [
    "The average age of the patients is approximatly 44."
   ]
  },
  {
   "cell_type": "markdown",
   "id": "1be353d0",
   "metadata": {},
   "source": [
    "### Checking classes distribution of the data and perfoma balancing"
   ]
  },
  {
   "cell_type": "code",
   "execution_count": 20,
   "id": "98b84723",
   "metadata": {},
   "outputs": [
    {
     "name": "stdout",
     "output_type": "stream",
     "text": [
      "5    6705\n",
      "4    1113\n",
      "2    1099\n",
      "1     514\n",
      "0     327\n",
      "6     142\n",
      "3     115\n",
      "Name: classes, dtype: int64\n"
     ]
    }
   ],
   "source": [
    "# Checking the distribution of the variables\n",
    "from sklearn.utils import resample\n",
    "print(skin_data['classes'].value_counts())\n",
    "\n",
    "# Balancing the data randomly sampling 500 images of each class.\n",
    "df_0 = skin_data[skin_data['classes'] == 0]\n",
    "df_1 = skin_data[skin_data['classes'] == 1]\n",
    "df_2 = skin_data[skin_data['classes'] == 2]\n",
    "df_3 = skin_data[skin_data['classes'] == 3]\n",
    "df_4 = skin_data[skin_data['classes'] == 4]\n",
    "df_5 = skin_data[skin_data['classes'] == 5]\n",
    "df_6 = skin_data[skin_data['classes'] == 6]\n",
    "\n",
    "n_samples=500 \n",
    "df_0_balanced = resample(df_0, replace=True, n_samples=n_samples, random_state=42) \n",
    "df_1_balanced = resample(df_1, replace=True, n_samples=n_samples, random_state=42) \n",
    "df_2_balanced = resample(df_2, replace=True, n_samples=n_samples, random_state=42)\n",
    "df_3_balanced = resample(df_3, replace=True, n_samples=n_samples, random_state=42)\n",
    "df_4_balanced = resample(df_4, replace=True, n_samples=n_samples, random_state=42)\n",
    "df_5_balanced = resample(df_5, replace=True, n_samples=n_samples, random_state=42)\n",
    "df_6_balanced = resample(df_6, replace=True, n_samples=n_samples, random_state=42)\n",
    "\n",
    "# Merging the samples into a new data frame\n",
    "skin_data_balanced = pd.concat([df_0_balanced, df_1_balanced, \n",
    "                              df_2_balanced, df_3_balanced, \n",
    "                              df_4_balanced, df_5_balanced, df_6_balanced])"
   ]
  },
  {
   "cell_type": "markdown",
   "id": "c1f7676e",
   "metadata": {},
   "source": [
    "The data before balancing."
   ]
  },
  {
   "cell_type": "markdown",
   "id": "9ce137b5",
   "metadata": {},
   "source": [
    "### Checking the distribution of the balanced data"
   ]
  },
  {
   "cell_type": "code",
   "execution_count": 21,
   "id": "4a8d3a66",
   "metadata": {},
   "outputs": [
    {
     "name": "stdout",
     "output_type": "stream",
     "text": [
      "0    500\n",
      "1    500\n",
      "2    500\n",
      "3    500\n",
      "4    500\n",
      "5    500\n",
      "6    500\n",
      "Name: classes, dtype: int64\n"
     ]
    }
   ],
   "source": [
    "#Checking the variable distribution on the balanced dataframe\n",
    "print(skin_data_balanced['classes'].value_counts())"
   ]
  },
  {
   "cell_type": "code",
   "execution_count": 10,
   "id": "d84ac977",
   "metadata": {},
   "outputs": [
    {
     "ename": "SyntaxError",
     "evalue": "invalid syntax (Temp/ipykernel_18508/1070845376.py, line 1)",
     "output_type": "error",
     "traceback": [
      "\u001b[1;36m  File \u001b[1;32m\"C:\\Users\\Aggelos\\AppData\\Local\\Temp/ipykernel_18508/1070845376.py\"\u001b[1;36m, line \u001b[1;32m1\u001b[0m\n\u001b[1;33m    The data after balancing.\u001b[0m\n\u001b[1;37m        ^\u001b[0m\n\u001b[1;31mSyntaxError\u001b[0m\u001b[1;31m:\u001b[0m invalid syntax\n"
     ]
    }
   ],
   "source": [
    "The data after balancing."
   ]
  },
  {
   "cell_type": "markdown",
   "id": "1923201b",
   "metadata": {},
   "source": [
    "### Reading the Images and adding them as new column based on the image ID"
   ]
  },
  {
   "cell_type": "code",
   "execution_count": 22,
   "id": "b29c0563",
   "metadata": {},
   "outputs": [],
   "source": [
    "# Reading the images based on the image ID\n",
    "image_path = {os.path.splitext(os.path.basename(x))[0]: x\n",
    "                     for x in glob(os.path.join('', '*', '*.jpg'))}\n",
    "\n",
    "#Define the path and add as a new column\n",
    "skin_data_balanced['path'] = skin_data['image_id'].map(image_path.get)\n",
    "#Use the path to read images.\n",
    "skin_data_balanced['image'] = skin_data_balanced['path'].map(lambda x: np.asarray(Image.open(x).resize((SIZE,SIZE))))\n",
    "\n",
    "\n"
   ]
  },
  {
   "cell_type": "markdown",
   "id": "44b97b50",
   "metadata": {},
   "source": [
    "The balanced data frame now includes the path and the image itself."
   ]
  },
  {
   "cell_type": "markdown",
   "id": "5a3891a1",
   "metadata": {},
   "source": [
    "### Data prepare for modelling"
   ]
  },
  {
   "cell_type": "code",
   "execution_count": 23,
   "id": "fe86814c",
   "metadata": {},
   "outputs": [],
   "source": [
    "#Convert dataframe column of images into array\n",
    "X = np.asarray(skin_data_balanced['image'].tolist())\n",
    "X = X/255.  # Scale values to ranges of 0-1. \n",
    "Y=skin_data_balanced['classes']  #Assign label values to Y\n",
    "Y_cat = to_categorical(Y, num_classes=7) #Convert to categorical to solve multiclassificartion problem\n",
    "#Split to training and testing\n",
    "x_train, x_test, y_train, y_test = train_test_split(X, Y_cat, test_size=0.25, random_state=42)"
   ]
  },
  {
   "cell_type": "markdown",
   "id": "5493f857",
   "metadata": {},
   "source": [
    "Creation of X and Y variable for training and testing. The pixels are normalized to values ranging from 0-1."
   ]
  },
  {
   "cell_type": "markdown",
   "id": "f69189a8",
   "metadata": {},
   "source": [
    "### Defining the model"
   ]
  },
  {
   "cell_type": "code",
   "execution_count": 24,
   "id": "d97b5415",
   "metadata": {},
   "outputs": [
    {
     "name": "stdout",
     "output_type": "stream",
     "text": [
      "Model: \"sequential\"\n",
      "_________________________________________________________________\n",
      "Layer (type)                 Output Shape              Param #   \n",
      "=================================================================\n",
      "conv2d (Conv2D)              (None, 30, 30, 256)       7168      \n",
      "_________________________________________________________________\n",
      "max_pooling2d (MaxPooling2D) (None, 15, 15, 256)       0         \n",
      "_________________________________________________________________\n",
      "dropout (Dropout)            (None, 15, 15, 256)       0         \n",
      "_________________________________________________________________\n",
      "conv2d_1 (Conv2D)            (None, 13, 13, 128)       295040    \n",
      "_________________________________________________________________\n",
      "max_pooling2d_1 (MaxPooling2 (None, 6, 6, 128)         0         \n",
      "_________________________________________________________________\n",
      "dropout_1 (Dropout)          (None, 6, 6, 128)         0         \n",
      "_________________________________________________________________\n",
      "conv2d_2 (Conv2D)            (None, 4, 4, 64)          73792     \n",
      "_________________________________________________________________\n",
      "max_pooling2d_2 (MaxPooling2 (None, 2, 2, 64)          0         \n",
      "_________________________________________________________________\n",
      "dropout_2 (Dropout)          (None, 2, 2, 64)          0         \n",
      "_________________________________________________________________\n",
      "flatten (Flatten)            (None, 256)               0         \n",
      "_________________________________________________________________\n",
      "dense (Dense)                (None, 32)                8224      \n",
      "_________________________________________________________________\n",
      "dense_1 (Dense)              (None, 7)                 231       \n",
      "=================================================================\n",
      "Total params: 384,455\n",
      "Trainable params: 384,455\n",
      "Non-trainable params: 0\n",
      "_________________________________________________________________\n"
     ]
    }
   ],
   "source": [
    "num_classes = 7\n",
    "\n",
    "model = Sequential()\n",
    "model.add(Conv2D(256, (3, 3), activation=\"relu\", input_shape=(SIZE, SIZE, 3)))\n",
    "#model.add(BatchNormalization())\n",
    "model.add(MaxPool2D(pool_size=(2, 2)))  \n",
    "model.add(Dropout(0.3))\n",
    "\n",
    "model.add(Conv2D(128, (3, 3),activation='relu'))\n",
    "#model.add(BatchNormalization())\n",
    "model.add(MaxPool2D(pool_size=(2, 2)))  \n",
    "model.add(Dropout(0.3))\n",
    "\n",
    "model.add(Conv2D(64, (3, 3),activation='relu'))\n",
    "#model.add(BatchNormalization())\n",
    "model.add(MaxPool2D(pool_size=(2, 2)))  \n",
    "model.add(Dropout(0.3))\n",
    "model.add(Flatten())\n",
    "\n",
    "model.add(Dense(32))\n",
    "model.add(Dense(7, activation='softmax'))\n",
    "model.summary()\n",
    "\n",
    "model.compile(loss='categorical_crossentropy', optimizer='Adam', metrics=['acc'])"
   ]
  },
  {
   "cell_type": "markdown",
   "id": "60649f6a",
   "metadata": {},
   "source": [
    "The first sequence of the model has 256 Convolutional filters the next 128 and the last 64. The density is set to 32 and the output layer is set to 7 nodes using softmax for multiclass classification. For loss function categorical crossentropy with Adam optimizer is used."
   ]
  },
  {
   "cell_type": "markdown",
   "id": "0a04d70c",
   "metadata": {},
   "source": [
    "### Initiating training and printing accuracy"
   ]
  },
  {
   "cell_type": "code",
   "execution_count": 25,
   "id": "2116e158",
   "metadata": {},
   "outputs": [
    {
     "name": "stdout",
     "output_type": "stream",
     "text": [
      "Epoch 1/50\n",
      "165/165 - 13s - loss: 1.9077 - acc: 0.1950 - val_loss: 1.9884 - val_acc: 0.1909\n",
      "Epoch 2/50\n",
      "165/165 - 12s - loss: 1.7864 - acc: 0.2579 - val_loss: 1.7720 - val_acc: 0.3097\n",
      "Epoch 3/50\n",
      "165/165 - 12s - loss: 1.6597 - acc: 0.3219 - val_loss: 1.5616 - val_acc: 0.3371\n",
      "Epoch 4/50\n",
      "165/165 - 12s - loss: 1.5157 - acc: 0.3806 - val_loss: 1.5080 - val_acc: 0.3943\n",
      "Epoch 5/50\n",
      "165/165 - 12s - loss: 1.4507 - acc: 0.4316 - val_loss: 1.3901 - val_acc: 0.4446\n",
      "Epoch 6/50\n",
      "165/165 - 12s - loss: 1.3907 - acc: 0.4590 - val_loss: 1.3598 - val_acc: 0.4686\n",
      "Epoch 7/50\n",
      "165/165 - 12s - loss: 1.3173 - acc: 0.4888 - val_loss: 1.3760 - val_acc: 0.4251\n",
      "Epoch 8/50\n",
      "165/165 - 12s - loss: 1.3152 - acc: 0.4750 - val_loss: 1.3297 - val_acc: 0.4697\n",
      "Epoch 9/50\n",
      "165/165 - 12s - loss: 1.2727 - acc: 0.4941 - val_loss: 1.2728 - val_acc: 0.4674\n",
      "Epoch 10/50\n",
      "165/165 - 13s - loss: 1.2342 - acc: 0.5116 - val_loss: 1.1804 - val_acc: 0.5794\n",
      "Epoch 11/50\n",
      "165/165 - 13s - loss: 1.2355 - acc: 0.5154 - val_loss: 1.3011 - val_acc: 0.4594\n",
      "Epoch 12/50\n",
      "165/165 - 13s - loss: 1.1817 - acc: 0.5448 - val_loss: 1.1765 - val_acc: 0.5314\n",
      "Epoch 13/50\n",
      "165/165 - 12s - loss: 1.1608 - acc: 0.5509 - val_loss: 1.1682 - val_acc: 0.5554\n",
      "Epoch 14/50\n",
      "165/165 - 12s - loss: 1.1326 - acc: 0.5474 - val_loss: 1.1394 - val_acc: 0.5714\n",
      "Epoch 15/50\n",
      "165/165 - 13s - loss: 1.1312 - acc: 0.5505 - val_loss: 1.2628 - val_acc: 0.4903\n",
      "Epoch 16/50\n",
      "165/165 - 12s - loss: 1.1371 - acc: 0.5554 - val_loss: 1.0778 - val_acc: 0.6011\n",
      "Epoch 17/50\n",
      "165/165 - 12s - loss: 1.0738 - acc: 0.5832 - val_loss: 1.0840 - val_acc: 0.5863\n",
      "Epoch 18/50\n",
      "165/165 - 12s - loss: 1.0633 - acc: 0.5798 - val_loss: 1.0795 - val_acc: 0.6103\n",
      "Epoch 19/50\n",
      "165/165 - 12s - loss: 1.0072 - acc: 0.6004 - val_loss: 1.0615 - val_acc: 0.6080\n",
      "Epoch 20/50\n",
      "165/165 - 13s - loss: 1.0389 - acc: 0.5931 - val_loss: 1.0309 - val_acc: 0.6320\n",
      "Epoch 21/50\n",
      "165/165 - 12s - loss: 0.9973 - acc: 0.6130 - val_loss: 1.0160 - val_acc: 0.6137\n",
      "Epoch 22/50\n",
      "165/165 - 12s - loss: 1.0089 - acc: 0.6088 - val_loss: 1.0009 - val_acc: 0.6366\n",
      "Epoch 23/50\n",
      "165/165 - 12s - loss: 0.9640 - acc: 0.6263 - val_loss: 1.0005 - val_acc: 0.6160\n",
      "Epoch 24/50\n",
      "165/165 - 13s - loss: 0.9499 - acc: 0.6278 - val_loss: 1.0135 - val_acc: 0.6217\n",
      "Epoch 25/50\n",
      "165/165 - 13s - loss: 0.9462 - acc: 0.6293 - val_loss: 0.9929 - val_acc: 0.6331\n",
      "Epoch 26/50\n",
      "165/165 - 12s - loss: 0.9174 - acc: 0.6423 - val_loss: 0.9631 - val_acc: 0.6583\n",
      "Epoch 27/50\n",
      "165/165 - 12s - loss: 0.8947 - acc: 0.6629 - val_loss: 1.0195 - val_acc: 0.5977\n",
      "Epoch 28/50\n",
      "165/165 - 12s - loss: 1.0021 - acc: 0.6072 - val_loss: 0.9912 - val_acc: 0.6411\n",
      "Epoch 29/50\n",
      "165/165 - 12s - loss: 0.8953 - acc: 0.6530 - val_loss: 0.9352 - val_acc: 0.6549\n",
      "Epoch 30/50\n",
      "165/165 - 13s - loss: 0.8844 - acc: 0.6632 - val_loss: 0.9274 - val_acc: 0.6617\n",
      "Epoch 31/50\n",
      "165/165 - 12s - loss: 0.8524 - acc: 0.6747 - val_loss: 0.9302 - val_acc: 0.6560\n",
      "Epoch 32/50\n",
      "165/165 - 13s - loss: 0.8567 - acc: 0.6644 - val_loss: 0.9178 - val_acc: 0.6720\n",
      "Epoch 33/50\n",
      "165/165 - 13s - loss: 0.8226 - acc: 0.6781 - val_loss: 0.8661 - val_acc: 0.7097\n",
      "Epoch 34/50\n",
      "165/165 - 13s - loss: 0.8273 - acc: 0.6903 - val_loss: 0.9364 - val_acc: 0.6446\n",
      "Epoch 35/50\n",
      "165/165 - 12s - loss: 0.8248 - acc: 0.6933 - val_loss: 0.9322 - val_acc: 0.6743\n",
      "Epoch 36/50\n",
      "165/165 - 12s - loss: 0.7994 - acc: 0.6983 - val_loss: 0.8807 - val_acc: 0.7029\n",
      "Epoch 37/50\n",
      "165/165 - 12s - loss: 0.8310 - acc: 0.6846 - val_loss: 0.8362 - val_acc: 0.7017\n",
      "Epoch 38/50\n",
      "165/165 - 12s - loss: 0.7732 - acc: 0.7078 - val_loss: 0.8184 - val_acc: 0.7223\n",
      "Epoch 39/50\n",
      "165/165 - 12s - loss: 0.7686 - acc: 0.7097 - val_loss: 0.8585 - val_acc: 0.6914\n",
      "Epoch 40/50\n",
      "165/165 - 12s - loss: 0.7516 - acc: 0.7124 - val_loss: 0.8358 - val_acc: 0.7051\n",
      "Epoch 41/50\n",
      "165/165 - 12s - loss: 0.7508 - acc: 0.7276 - val_loss: 0.8123 - val_acc: 0.7143\n",
      "Epoch 42/50\n",
      "165/165 - 12s - loss: 0.7097 - acc: 0.7303 - val_loss: 0.8547 - val_acc: 0.7211\n",
      "Epoch 43/50\n",
      "165/165 - 12s - loss: 0.7432 - acc: 0.7261 - val_loss: 0.8026 - val_acc: 0.7234\n",
      "Epoch 44/50\n",
      "165/165 - 12s - loss: 0.7007 - acc: 0.7299 - val_loss: 0.8083 - val_acc: 0.7109\n",
      "Epoch 45/50\n",
      "165/165 - 12s - loss: 0.7282 - acc: 0.7276 - val_loss: 0.8754 - val_acc: 0.6823\n",
      "Epoch 46/50\n",
      "165/165 - 12s - loss: 0.7155 - acc: 0.7265 - val_loss: 0.7768 - val_acc: 0.7406\n",
      "Epoch 47/50\n",
      "165/165 - 12s - loss: 0.6880 - acc: 0.7383 - val_loss: 0.8139 - val_acc: 0.7303\n",
      "Epoch 48/50\n",
      "165/165 - 12s - loss: 0.6660 - acc: 0.7516 - val_loss: 0.8110 - val_acc: 0.7257\n",
      "Epoch 49/50\n",
      "165/165 - 13s - loss: 0.6837 - acc: 0.7371 - val_loss: 0.8055 - val_acc: 0.7280\n",
      "Epoch 50/50\n",
      "165/165 - 12s - loss: 0.6780 - acc: 0.7436 - val_loss: 0.7901 - val_acc: 0.7383\n",
      "28/28 [==============================] - 1s 25ms/step - loss: 0.7901 - acc: 0.7383\n",
      "Test accuracy: 0.7382857203483582\n"
     ]
    }
   ],
   "source": [
    "# Training \n",
    "# This may take some time\n",
    "\n",
    "batch_size = 16 \n",
    "epochs = 50\n",
    "\n",
    "history = model.fit(\n",
    "    x_train, y_train,\n",
    "    epochs=epochs,\n",
    "    batch_size = batch_size,\n",
    "    validation_data=(x_test, y_test),\n",
    "    verbose=2)\n",
    "\n",
    "#Model accuracy \n",
    "score = model.evaluate(x_test, y_test)\n",
    "print('Test accuracy:', score[1])"
   ]
  },
  {
   "cell_type": "markdown",
   "id": "206c11cf",
   "metadata": {},
   "source": [
    "The size of images checked are 16 per batch and 50 epochs for each batch.\n",
    "Then the model is fitted and the test accuracy is calculated and printed."
   ]
  },
  {
   "cell_type": "markdown",
   "id": "222f8431",
   "metadata": {},
   "source": [
    "### Plotting Validation accuracy and epoch loss"
   ]
  },
  {
   "cell_type": "code",
   "execution_count": 26,
   "id": "ca48ae12",
   "metadata": {},
   "outputs": [
    {
     "data": {
      "image/png": "[encoded data removed]",
      "text/plain": [
       "<Figure size 432x288 with 1 Axes>"
      ]
     },
     "metadata": {
      "needs_background": "light"
     },
     "output_type": "display_data"
    },
    {
     "data": {
      "image/png": "[encoded data removed]",
      "text/plain": [
       "<Figure size 432x288 with 1 Axes>"
      ]
     },
     "metadata": {
      "needs_background": "light"
     },
     "output_type": "display_data"
    }
   ],
   "source": [
    "#plot the training and validation accuracy and loss at each epoch\n",
    "loss = history.history['loss']\n",
    "val_loss = history.history['val_loss']\n",
    "epochs = range(1, len(loss) + 1)\n",
    "plt.plot(epochs, loss, 'y', label='Training loss')\n",
    "plt.plot(epochs, val_loss, 'r', label='Validation loss')\n",
    "plt.title('Training and validation loss')\n",
    "plt.xlabel('Epochs')\n",
    "plt.ylabel('Loss')\n",
    "plt.legend()\n",
    "plt.show()\n",
    "\n",
    "\n",
    "acc = history.history['acc']\n",
    "val_acc = history.history['val_acc']\n",
    "plt.plot(epochs, acc, 'y', label='Training acc')\n",
    "plt.plot(epochs, val_acc, 'r', label='Validation acc')\n",
    "plt.title('Training and validation accuracy')\n",
    "plt.xlabel('Epochs')\n",
    "plt.ylabel('Accuracy')\n",
    "plt.legend()\n",
    "plt.show()"
   ]
  },
  {
   "cell_type": "markdown",
   "id": "836d595b",
   "metadata": {},
   "source": [
    "The grapsh detailing the loss and accuracy in each epoch. Highly suggesting that with 20-30 additional epochs the accuracy could peak at 80%."
   ]
  },
  {
   "cell_type": "markdown",
   "id": "514dff34",
   "metadata": {},
   "source": [
    "### Prediction and Confusion Matrix"
   ]
  },
  {
   "cell_type": "code",
   "execution_count": 27,
   "id": "5a5b006f",
   "metadata": {},
   "outputs": [
    {
     "data": {
      "text/plain": [
       "<AxesSubplot:>"
      ]
     },
     "execution_count": 27,
     "metadata": {},
     "output_type": "execute_result"
    },
    {
     "data": {
      "image/png": "[encoded data removed]",
      "text/plain": [
       "<Figure size 432x432 with 2 Axes>"
      ]
     },
     "metadata": {
      "needs_background": "light"
     },
     "output_type": "display_data"
    }
   ],
   "source": [
    "# Prediction on test data\n",
    "y_pred = model.predict(x_test)\n",
    "# Convert predictions classes to one hot vectors \n",
    "y_pred_classes = np.argmax(y_pred, axis = 1) \n",
    "# Convert test data to one hot vectors\n",
    "y_true = np.argmax(y_test, axis = 1) \n",
    "\n",
    "#Print confusion matrix\n",
    "cm = confusion_matrix(y_true, y_pred_classes)\n",
    "\n",
    "fig, ax = plt.subplots(figsize=(6,6))\n",
    "sns.set(font_scale=1.6)\n",
    "sns.heatmap(cm, annot=True, linewidths=.5, ax=ax)"
   ]
  },
  {
   "cell_type": "markdown",
   "id": "669aff79",
   "metadata": {},
   "source": [
    "The confusion matrix show that classes 0, 3 and 6 performed really well."
   ]
  }
 ],
 "metadata": {
  "kernelspec": {
   "display_name": "Python 3 (ipykernel)",
   "language": "python",
   "name": "python3"
  },
  "language_info": {
   "codemirror_mode": {
    "name": "ipython",
    "version": 3
   },
   "file_extension": ".py",
   "mimetype": "text/x-python",
   "name": "python",
   "nbconvert_exporter": "python",
   "pygments_lexer": "ipython3",
   "version": "3.9.7"
  }
 },
 "nbformat": 4,
 "nbformat_minor": 5
}
